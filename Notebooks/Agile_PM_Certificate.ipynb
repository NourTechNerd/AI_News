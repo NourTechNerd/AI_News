{
 "cells": [
  {
   "cell_type": "markdown",
   "metadata": {},
   "source": [
    "# Module 1:"
   ]
  },
  {
   "cell_type": "markdown",
   "metadata": {},
   "source": [
    "## A brief History:\n",
    "\n",
    "- **Waterfall** : A sequencial and linear model in project management, that avoids Change.\n",
    "- **Agile** : Can move quickly and easily.\n",
    "\n",
    "| Agile Mindset | Waterfall Mindset |\n",
    "| --- | --- |\n",
    "|Cercular|Linear|\n",
    "|Adaptable|Fixed|\n",
    "|Small deliverables throughout the project|Big deliverable at the end|\n",
    "\n",
    "<img style=\"width: 600px; margin: 10px;\" src=\"Images/Agile_History.png\" alt=\"Agile_History.png\">\n",
    "\n",
    "- Agile was designed first for software development projects, but now it's universaly applicable.\n",
    "**Agile Core Concepts**\n",
    "\n",
    "- `Adaptability` flexibility and Openness to change Because client's requirements change over project lifetime.\n",
    "- `Quick feedback` Engage more customers and stakeholders in the development process by getting their feedback quickly as possible => So the team don't waste time and effort developing features that customer doesn't want.\n",
    "- `Small deliverables` Deliver small chunks of work to the customers, so they can get feedback and make changes.\n",
    "\n",
    "**VUCA** : Volatility, Uncertainty, Complexity, Ambiguity\n",
    "\n",
    "**VUCA** is a set of characteristics that characterize a project. It is a combination of the following:\n",
    "\n",
    "- **Volatility** : The degree to which the project is likely to change over time.\n",
    "- **Uncertainty** : The degree to which the project is likely to fail.\n",
    "- **Complexity** : The degree to which the project is likely to be difficult to complete.\n",
    "- **Ambiguity** : The degree to which the project is likely to be unclear."
   ]
  },
  {
   "cell_type": "markdown",
   "metadata": {},
   "source": [
    "## Popular Agile Frameworks\n",
    "\n",
    "### Scrum\n",
    "\n",
    "- Scrum is a framework for Agile management.\n",
    "- `Product Backlog` : A prioritized list of all work that needs to be done.The most important items are shown at the top of the product backlog so the team knows what to deliver first + Product Requirements + Product features.\n",
    "- `Sprint` : A period when the team works to complete a set of tasks.Generally a sprint is 1-4 weeks long.\n",
    "- `Sprint Backlog` : A list of tasks that the team is working on during the sprint.\n",
    "\n",
    "#### Scrum Pillars :\n",
    "- Transparency\n",
    "- Inspection\n",
    "- Adaptation\n",
    "\n",
    "#### Scrum Values :\n",
    "- Commitment\n",
    "- Courage\n",
    "- Focus\n",
    "- Openness\n",
    "- Respect\n",
    "\n",
    "#### Scrum Roles :\n",
    "- Product Owner\n",
    "- Scrum Master\n",
    "- Development Team\n",
    "\n",
    "- Scrum Teams are Self-Organizing\n",
    "\n",
    "#### Scrum Master Traits :\n"
   ]
  },
  {
   "cell_type": "markdown",
   "metadata": {},
   "source": []
  }
 ],
 "metadata": {
  "language_info": {
   "name": "python"
  }
 },
 "nbformat": 4,
 "nbformat_minor": 2
}
