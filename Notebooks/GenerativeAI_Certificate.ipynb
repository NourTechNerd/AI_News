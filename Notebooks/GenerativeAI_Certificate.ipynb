{
 "cells": [
  {
   "cell_type": "markdown",
   "metadata": {},
   "source": [
    "<p style=\"color:#ffde21;\">Yellow</p>\n",
    "<p style=\"color:#ff5c00;\">Orange</p>\n",
    "<p style=\"color:#89f336;\">Green</p>"
   ]
  },
  {
   "cell_type": "markdown",
   "metadata": {},
   "source": [
    "<h1 style=\"color:#57b9ff;\">What is Generative AI</h1>\n"
   ]
  },
  {
   "cell_type": "markdown",
   "metadata": {},
   "source": [
    "- We can define just as a type of AI that capable to `generate New Content.`\n",
    "- Generative AI is good for repetitive Tasks that not require any human intervention.\n",
    "- GenAI Familly :\n",
    "   - LLMs\n",
    "   - GANs\n",
    "   - VAE\n",
    "<h4 style=\"color:#89f336; font-weight: bold;\">LLMs</h4>\n",
    "\n",
    "- My freinds of launguage models.\n",
    "\n",
    "<h4 style=\"color:#89f336; font-weight: bold;\">GANs</h4>\n",
    "\n",
    "- Generative adversarial networks. Why this name? because the generator and the discriminator are trained in a way seems like a Competition.\n",
    "- The Generator try to generate more realistic images from the original ones.\n",
    "- The Discriminator try to distinguish the original images from the generated ones.\n",
    "- The input Image (+- Prompt) and the Output is Images.\n",
    "<p style=\"color:#ffde21; font-weight: bold;\">Real World Examples</p>\n",
    "\n",
    "  - `Audi` use GANs to generate New Wheels designs for their cars.\n",
    "  - Synthetic fraude transactions for training ML models.\n",
    "\n",
    "<h4 style=\"color:#89f336; font-weight: bold;\">VAEs</h4>\n",
    "\n",
    "- Variational Autoencoders.\n",
    "- Can be used for Anomaly/intrusion detection.\n",
    "- Their are trianed on Normal data to detect anomalies.\n",
    "\n",
    "<p style=\"color:#ffde21; font-weight: bold;\">Real World Examples</p>\n",
    "\n",
    "  - `Uber`,`Google` use VAE for Anomaly detection in their clients's transactions.\n",
    "  - Generate Synthetic fraude transactions for training ML models.\n",
    "  - Quality Control to detect anormal products."
   ]
  },
  {
   "cell_type": "markdown",
   "metadata": {},
   "source": [
    "<h1 style=\"color:#57b9ff;\">The Future of AI</h1>\n",
    "\n",
    "- Their are alot of hype todays that AI will replce humans. But is not true, because AI  made for :\n",
    "  - Repetitive dangerous tasks, Leaving time for Leadership,Creativity,Decision Making, of humans.(Like in Textra).\n",
    "  - So yes if Your job is repetitive/dangerous dosn't require your Intilligence it will be automated by AI.\n",
    "  - When the humanity enter to new age it's normal that some jobs disapair while outhers appear."
   ]
  },
  {
   "cell_type": "markdown",
   "metadata": {},
   "source": [
    "<h1 style=\"color:#57b9ff;\">Evolution of Online Search with GenAI</h1>\n",
    "\n",
    "<h3 style=\"color:#89f336;\">Search Engine</h3>\n",
    "\n",
    "- A serch engine work by performing 3 tasks : crawling, indexing and ranking.\n",
    "- Web Crawlers discover Nwe or Updated web pages contitiously to keep the index up to date.\n",
    "- Index where the pages are stored.\n",
    "- Ranking provide the most relevant results for a query based on relevance,popularity and authority.\n",
    "- Search engine accually dosn't understand the query their just loking for keywords in it.\n",
    "<h3 style=\"color:#89f336;\">Prompt engineering</h3>\n",
    "\n",
    "- When we start to give the LLM instructions that will guide him to What we expect as a response , we call it Prompt Engineering like in the System prompt.\n",
    "- Enhacing prompt can be done by : `Providing Context`,`Give examples of QA (one-shot or few-shot learning)`,`Role-play scenarios` like : you are an Experement Designer, you are a Marketing Manager...\n"
   ]
  },
  {
   "cell_type": "code",
   "execution_count": null,
   "metadata": {},
   "outputs": [],
   "source": []
  },
  {
   "cell_type": "code",
   "execution_count": null,
   "metadata": {},
   "outputs": [],
   "source": []
  },
  {
   "cell_type": "code",
   "execution_count": null,
   "metadata": {},
   "outputs": [],
   "source": []
  }
 ],
 "metadata": {
  "language_info": {
   "name": "python"
  }
 },
 "nbformat": 4,
 "nbformat_minor": 2
}
